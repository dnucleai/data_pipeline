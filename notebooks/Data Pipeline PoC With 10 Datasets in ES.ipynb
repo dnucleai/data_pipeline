{
 "cells": [
  {
   "cell_type": "markdown",
   "metadata": {},
   "source": [
    "# Overview\n",
    "This project will capture the end to end flow from receiving documents till query time of these documents. That is, we'll be dealing with the parsing, storing, and clustering of our database.\n",
    "\n",
    "On a high level, documents of various formats will be provided accompanied by some metadata (i.e. a paper or etc.). This will go to our parsers and then be formatted into a JSON document that will be uploaded on to an elasticsearch cluster. We will then train an [LDA Model](https://radimrehurek.com/gensim/models/ldamodel.html) to obtain latent topics based off the the accompanied metadata. On query time, given a list of descriptors, we will then try to find the relevant topics associated with these descriptors. \n",
    "\n",
    "Prior to running this notebook, run the following on terminal:\n",
    "```\n",
    "conda install elasticsearch\n",
    "```"
   ]
  },
  {
   "cell_type": "markdown",
   "metadata": {},
   "source": [
    "# Acquiring Datasets\n",
    "\n",
    "We begin by obtaining data sets and storing it in a [JSON list](https://docs.google.com/document/d/1gSiucl9H1AR-2aCdE4dvOPwHZxP6zpkFzpIRfJ0usDc/edit). `Filename` represents the name of the file that was downloaded, `Data Source` represents the URL where we will manually download the file from, and `Relevant Articles` is what we'll use for our corpus to train our LDA model."
   ]
  },
  {
   "cell_type": "code",
   "execution_count": 53,
   "metadata": {},
   "outputs": [],
   "source": [
    "data_sets = [\n",
    "  {\n",
    "    \"Filename\": \"U.S._Chronic_Disease_Indicators__CDI_.csv\",\n",
    "    \"Data Source\": \"https://chronicdata.cdc.gov/views/g4ie-h725/rows.csv?accessType=DOWNLOAD\",\n",
    "    \"Relevant Articles\": [\n",
    "      \"https://www.cdc.gov/mmwr/pdf/rr/rr6401.pdf\"\n",
    "    ]\n",
    "  },\n",
    "  {\n",
    "    \"Filename\": \"diabetic_data.csv\",\n",
    "    \"Data Source\": \"https://archive.ics.uci.edu/ml/machine-learning-databases/00296/\",\n",
    "    \"Relevant Articles\": [\n",
    "      \"https://www.hindawi.com/journals/bmri/2014/781670/\",\n",
    "      \"https://archive.ics.uci.edu/ml/datasets/diabetes+130-us+hospitals+for+years+1999-2008\"\n",
    "    ]\n",
    "  },\n",
    "  {\n",
    "    \"Filename\": \"2016_Central_Line-Associated_Bloodstream_Infections__CLABSI__Table__Original_Baseline_.csv\",\n",
    "    \"Data Source\": \"https://data.oregon.gov/api/views/757s-zskx/rows.csv?accessType=DOWNLOAD\",\n",
    "    \"Relevant Articles\": [\n",
    "      \"https://www.oregon.gov/oha/PH/DISEASESCONDITIONS/COMMUNICABLEDISEASE/HAI/Documents/Reports/2016_HAI_Annual_Report.pdf\",\n",
    "      \"https://www.oregon.gov/oha/PH/DISEASESCONDITIONS/COMMUNICABLEDISEASE/HAI/Documents/Reports/2016_HAI_Annual_Report_Exec_Summary.pdf\"\n",
    "    ]\n",
    "  },\n",
    "  {\n",
    "    \"Filename\": \"crimelabaccidentaldrugdeathsextract2017.csv\",\n",
    "    \"Data Source\": \"https://data.wprdc.org/dataset/7fb0505e-8e2c-4825-b22c-4fbee8fc8010/resource/2d963e35-4f69-495e-985e-55acd72c87ca/download/crimelabaccidentaldrugdeathsextract2017.csv\",\n",
    "    \"Relevant Articles\": [\n",
    "      \"https://www.alleghenycountyanalytics.us/wp-content/uploads/2017/04/Opiate-Related-Overdose-Deaths-in-Allegheny-County.pdf\",\n",
    "      \"https://data.wprdc.org/dataset/7fb0505e-8e2c-4825-b22c-4fbee8fc8010/resource/a71e43e1-5a38-4fb3-b5f8-6ed7e51caade/download/me-data-dictionary.pdf\",\n",
    "      \"https://www.overdosefreepa.pitt.edu/know-the-facts/view-overdose-death-data/\"\n",
    "    ]\n",
    "  },\n",
    "  {\n",
    "    \"Filename\": \"EMS_-_Transport_Count_by_Destination.csv\",\n",
    "    \"Data Source\": \"https://data.austintexas.gov/api/views/jtkc-5pgh/rows.csv?accessType=DOWNLOAD\",\n",
    "    \"Relevant Articles\": [\n",
    "      \"https://data.austintexas.gov/Public-Safety/EMS-Transport-Count-by-Destination/jtkc-5pgh\",\n",
    "      \"https://data.austintexas.gov/api/views/jtkc-5pgh/files/l9hg5sYLDEzQMylruCIknoVFpSq9kwMX2RvmlqN51g4?download=true&filename=EMS%20-%20Transport%20Count%20by%20Destination%20Metadata.pdf\",\n",
    "      \"http://www.austintexas.gov/department/ems\"\n",
    "    ]\n",
    "  }\n",
    "]"
   ]
  },
  {
   "cell_type": "markdown",
   "metadata": {},
   "source": [
    "# Parsing and Uploading to Elasticsearch\n",
    "The datasets above are all in csv format for easy parsing. When expanding our use case, we will use various types of data.\n",
    "\n",
    "### DO NOT RUN THE FOLLOWING AGAIN. EACH DOCUMENT IS GIVEN A UNIQUE ID AND WILL NOT OVERRIDE IT."
   ]
  },
  {
   "cell_type": "code",
   "execution_count": 54,
   "metadata": {},
   "outputs": [
    {
     "name": "stdout",
     "output_type": "stream",
     "text": [
      "Uploading documents...\n",
      "(2227, [])\n"
     ]
    }
   ],
   "source": [
    "import csv\n",
    "import json\n",
    "from elasticsearch import Elasticsearch, helpers\n",
    "\n",
    "def convert_csv_to_json(csv_file):\n",
    "    with open(csv_file) as f:\n",
    "        reader = csv.DictReader(f)\n",
    "        rows = list(reader)\n",
    "    return (rows)\n",
    "\n",
    "def format_es_document(index, document):\n",
    "    return {\n",
    "        \"_index\": index.lower(), # Must be lowercase\n",
    "        \"_type\": index.lower(),\n",
    "        \"_source\": document\n",
    "    }\n",
    "\n",
    "es = Elasticsearch(\"https://search-data-pipeline-poc-bdfr3wal5lxncg2zllpoo6nd2e.us-east-1.es.amazonaws.com\")\n",
    "es_documents_for_datasets = []\n",
    "for data in data_sets:\n",
    "    raw_documents = convert_csv_to_json(\"datasets/\" + data[\"Filename\"])\n",
    "    for raw_document in raw_documents:\n",
    "        es_documents_for_datasets.append(format_es_document(data[\"Filename\"], raw_document))\n",
    "    \n",
    "print(\"Uploading documents...\")\n",
    "#     res = es.index(index=data[\"Filename\"],doc_type='post', body=document)\n",
    "#     print(res['result'])\n",
    "print(helpers.bulk(es, es_documents_for_datasets))\n"
   ]
  },
  {
   "cell_type": "markdown",
   "metadata": {},
   "source": [
    "# Deriving Corpuses for LDA Model and Model Generation\n",
    "This section will derive latent topics given the the articles specified above."
   ]
  },
  {
   "cell_type": "code",
   "execution_count": 74,
   "metadata": {},
   "outputs": [],
   "source": [
    "from nltk.corpus import stopwords \n",
    "from nltk.stem.wordnet import WordNetLemmatizer\n",
    "\n",
    "import string\n",
    "import re\n",
    "import urllib\n",
    "import gensim\n",
    "from gensim import corpora\n",
    "\n",
    "def combine_relevant_articles(data):\n",
    "    joined_articles = \"\"\n",
    "    for link in data[\"Relevant Articles\"]:\n",
    "        file = urllib.urlopen(link)\n",
    "        document = file.read()\n",
    "        joined_articles += document\n",
    "    return joined_articles\n",
    "        \n",
    "def derive_corpuses(data_sets):\n",
    "    documents = []\n",
    "    for data in data_sets:\n",
    "        documents.append(combine_relevant_articles(data))\n",
    "        \n",
    "    stop = set(stopwords.words('english'))\n",
    "    exclude = set(string.punctuation) \n",
    "    lemma = WordNetLemmatizer()\n",
    "    return [clean(document).split() for document in documents] \n",
    "\n",
    "def clean(doc):\n",
    "    stop = set(stopwords.words('english'))\n",
    "    exclude = set(string.punctuation) \n",
    "    lemma = WordNetLemmatizer()\n",
    "    doc = ''.join([i if ord(i) < 128 else ' ' for i in doc])\n",
    "    stop_free = \" \".join([i for i in doc.lower().split() if i not in stop])\n",
    "    punc_free = ''.join(ch for ch in stop_free if ch not in exclude)\n",
    "    normalized = \" \".join(lemma.lemmatize(word) for word in punc_free.split())\n",
    "    return normalized\n",
    "    \n",
    "corpuses = derive_corpuses(data_sets)\n",
    "dictionary = corpora.Dictionary(corpuses)\n",
    "doc_term_matrix = [dictionary.doc2bow(corpus) for corpus in corpuses]\n",
    "lda = gensim.models.ldamodel.LdaModel\n",
    "ldamodel = lda(doc_term_matrix, num_topics=50, id2word = dictionary, passes=50)"
   ]
  },
  {
   "cell_type": "markdown",
   "metadata": {},
   "source": [
    "# Testing Using Existing Data\n",
    "Before continuing, let's take a look at some of the topics discovered\n"
   ]
  },
  {
   "cell_type": "code",
   "execution_count": 73,
   "metadata": {},
   "outputs": [
    {
     "name": "stdout",
     "output_type": "stream",
     "text": [
      "[(0, u'0.006*\"div\" + 0.002*\"dataset\" + 0.002*\"asset\" + 0.001*\"data\" + 0.001*\"medical\" + 0.001*\"try\" + 0.001*\"please\" + 0.001*\"column\" + 0.001*\"owner\" + 0.001*\"requires\"'), (1, u'0.000*\"r\" + 0.000*\"p\" + 0.000*\"z\" + 0.000*\"v\" + 0.000*\"g\" + 0.000*\"x\" + 0.000*\"q\" + 0.000*\"k\" + 0.000*\"h\" + 0.000*\"u\"'), (2, u'0.016*\"q\" + 0.015*\"w\" + 0.015*\"u\" + 0.015*\"h\" + 0.015*\"z\" + 0.015*\"f\" + 0.015*\"g\" + 0.015*\"v\" + 0.015*\"r\" + 0.015*\"k\"')]\n"
     ]
    }
   ],
   "source": [
    "print(ldamodel.print_topics(num_topics=3, num_words=10))"
   ]
  },
  {
   "cell_type": "markdown",
   "metadata": {},
   "source": [
    "We will first examine the topics generated with [the following problem](http://www.allerganclinicaltrials.com/pdfs/neuroscience/Approved/Combunox-OXY-MD-05-00.pdf) as well as validate using the existing JSON attributes."
   ]
  },
  {
   "cell_type": "code",
   "execution_count": null,
   "metadata": {},
   "outputs": [],
   "source": [
    "problem_url = \"http://www.allerganclinicaltrials.com/pdfs/neuroscience/Approved/Combunox-OXY-MD-05-00.pdf\"\n",
    "problem_url_file = urllib.urlopen(problem_url)\n",
    "problem = problem_url_file.read()\n",
    "\n",
    "clean(problem)\n"
   ]
  }
 ],
 "metadata": {
  "kernelspec": {
   "display_name": "Python 2",
   "language": "python",
   "name": "python2"
  },
  "language_info": {
   "codemirror_mode": {
    "name": "ipython",
    "version": 2
   },
   "file_extension": ".py",
   "mimetype": "text/x-python",
   "name": "python",
   "nbconvert_exporter": "python",
   "pygments_lexer": "ipython2",
   "version": "2.7.15"
  }
 },
 "nbformat": 4,
 "nbformat_minor": 2
}
